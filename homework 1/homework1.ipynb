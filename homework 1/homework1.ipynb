{
 "cells": [
  {
   "cell_type": "code",
   "execution_count": 194,
   "metadata": {},
   "outputs": [],
   "source": [
    "import numpy as np\n",
    "import cvxpy as cp\n",
    "import matplotlib.pyplot as plt"
   ]
  },
  {
   "cell_type": "code",
   "execution_count": 195,
   "metadata": {},
   "outputs": [],
   "source": [
    "n = 10\n",
    "m = 20\n",
    "\n",
    "s = '[2.2322506e-01,  2.3608776e-01,  6.4272570e-01,  4.5928443e-01,  1.6874500e-01,  1.6519149e-01,  1.3613901e-01,  1.3489183e-01,   1.2240627e-01,  9.8190399e-02;  2.7500708e-01,  3.0048172e-01,  9.3126220e-01,  6.9520800e-01,  2.3539501e-01,  2.4199318e-01,  2.0442747e-01,  2.2033567e-01,   2.2708388e-01,  1.9709245e-01;  2.8284155e-01,  3.1119258e-01,  1.0119832e+00,  7.5741839e-01,  2.4653595e-01,  2.5526347e-01,  2.1549195e-01,  2.3478748e-01,   2.4499957e-01,  2.1282056e-01;  2.1023610e-01,  2.4983526e-01,  9.1578327e-01,  7.8252458e-01,  2.4959281e-01,  2.8253148e-01,  2.5243521e-01,  3.1066427e-01,   3.7824019e-01,  3.5875523e-01;  2.4763217e-01,  2.6968707e-01,  8.8581324e-01,  6.5116690e-01,  2.0426467e-01,  2.0739080e-01,  1.7133470e-01,  1.8043616e-01,   1.7801257e-01,  1.4641818e-01;  2.6126506e-01,  2.8702485e-01,  1.0040781e+00,  7.4064468e-01,  2.1992901e-01,  2.2525875e-01,  1.8571140e-01,  1.9826653e-01,   1.9867350e-01,  1.6339491e-01;  6.2497948e-02,  8.7566000e-02,  3.1538678e-01,  3.6240207e-01,  1.3047677e-01,  1.6312026e-01,  1.5608873e-01,  2.1294828e-01,   2.9048558e-01,  2.9259499e-01;  2.6157614e-01,  2.9895230e-01,  9.6598283e-01,  8.2467078e-01,  2.7645416e-01,  3.0404163e-01,  2.6749748e-01,  3.1880348e-01,   3.7628955e-01,  3.4956759e-01;  2.5744672e-01,  2.9508037e-01,  9.4134658e-01,  8.1791159e-01,  2.7696480e-01,  3.0622237e-01,  2.7041955e-01,  3.2481519e-01,   3.8753854e-01,  3.6182945e-01;  2.4204740e-01,  2.6968058e-01,  8.9050958e-01,  7.2103278e-01,  2.2371792e-01,  2.3680453e-01,  1.9979149e-01,  2.2569342e-01,   2.4718260e-01,  2.1374095e-01;  2.5191086e-01,  2.8266996e-01,  9.5848864e-01,  7.8791855e-01,  2.3803756e-01,  2.5417584e-01,  2.1452744e-01,  2.4572142e-01,   2.7380626e-01,  2.3741696e-01;  2.6174486e-01,  3.0422971e-01,  9.6174110e-01,  8.8556521e-01,  2.9958059e-01,  3.3795576e-01,  3.0075078e-01,  3.7225658e-01,   4.6168473e-01,  4.3604955e-01;  6.0331523e-02,  8.0638053e-02,  1.4822079e-01,  2.3665323e-01,  1.2759486e-01,  1.5992449e-01,  1.5856814e-01,  2.1788348e-01,   3.0545384e-01,  3.1876103e-01;  2.3709916e-01,  2.6763255e-01,  8.3307800e-01,  7.2706588e-01,  2.3723746e-01,  2.5794149e-01,  2.2171083e-01,  2.6165741e-01,   3.0565388e-01,  2.7382493e-01;  1.8183604e-01,  2.1526160e-01,  5.4739360e-01,  5.7323980e-01,  2.4138457e-01,  2.8114122e-01,  2.6181896e-01,  3.3662271e-01,   4.4059255e-01,  4.3859882e-01;  2.4403105e-01,  2.7976039e-01,  7.9470154e-01,  7.4624083e-01,  2.7146543e-01,  3.0402397e-01,  2.7030504e-01,  3.3269572e-01,   4.1263491e-01,  3.8959405e-01;  2.2078879e-01,  2.5689201e-01,  6.5909259e-01,  6.6442582e-01,  2.7180623e-01,  3.1180467e-01,  2.8593714e-01,  3.6245731e-01,   4.6778688e-01,  4.5919963e-01;  1.0333647e-01,  1.2559428e-01,  2.1894958e-01,  2.8629731e-01,  1.6713525e-01,  2.0127019e-01,  1.9769484e-01,  2.6253969e-01,   3.5912494e-01,  3.7654728e-01;  1.9747690e-01,  2.2260111e-01,  6.5599734e-01,  5.9449762e-01,  1.9652304e-01,  2.1424967e-01,  1.8195021e-01,  2.1706177e-01,   2.5824161e-01,  2.2730261e-01;  9.1667677e-02,  1.1171752e-01,  1.5101980e-01,  2.2536038e-01,  1.5740654e-01,  1.9126641e-01,  1.9159781e-01,  2.5680665e-01,   3.5664642e-01,  3.8163407e-01]'\n",
    "A = np.array(np.matrix(s.strip('[]')))\n",
    "b = np.ones(m)"
   ]
  },
  {
   "cell_type": "code",
   "execution_count": 196,
   "metadata": {},
   "outputs": [],
   "source": [
    "def f0(x):\n",
    "    y = np.array([np.matmul(A,x), 1/np.matmul(A,x)])\n",
    "    cost = np.log(np.max(y))\n",
    "    return cost"
   ]
  },
  {
   "cell_type": "code",
   "execution_count": 197,
   "metadata": {},
   "outputs": [],
   "source": [
    "def saturate(x):\n",
    "    x[x>1] = 1\n",
    "    x[x<0] = 0\n",
    "    return x"
   ]
  },
  {
   "cell_type": "markdown",
   "metadata": {},
   "source": [
    "## Least Squares With Constraints"
   ]
  },
  {
   "cell_type": "code",
   "execution_count": 198,
   "metadata": {},
   "outputs": [
    {
     "name": "stdout",
     "output_type": "stream",
     "text": [
      "[ 1.        0.822328 -0.       -0.       -0.        0.        1.\n",
      "  0.155215 -0.        1.      ]\n",
      "Cost =  0.48411488821331605\n"
     ]
    }
   ],
   "source": [
    "x = cp.Variable(n)\n",
    "objective = cp.Minimize(cp.sum_squares(A @ x - b))\n",
    "constraints = [0 <= x, x <= 1]\n",
    "prob = cp.Problem(objective, constraints)\n",
    "result = prob.solve()\n",
    "\n",
    "print(np.around(x.value, decimals=6))\n",
    "\n",
    "print(\"Cost = \",f0(x.value))"
   ]
  },
  {
   "cell_type": "markdown",
   "metadata": {},
   "source": [
    "## Least Squares with Saturation"
   ]
  },
  {
   "cell_type": "code",
   "execution_count": 199,
   "metadata": {},
   "outputs": [
    {
     "name": "stdout",
     "output_type": "stream",
     "text": [
      "[  6128.745005  -5142.837739    126.008779   -280.157123  -7331.811104\n",
      "  10223.900065 -12246.131454  12894.379259  -6184.127554   1302.195928]\n",
      "Cost =  0.8627835570819031\n"
     ]
    }
   ],
   "source": [
    "x = cp.Variable(n)\n",
    "objective = cp.Minimize(cp.sum_squares(A @ x - b))\n",
    "prob = cp.Problem(objective)\n",
    "\n",
    "result = prob.solve(solver=cp.ECOS)\n",
    "\n",
    "print(np.around(x.value, decimals=6))\n",
    "\n",
    "x = saturate(x.value)\n",
    "print(\"Cost = \",f0(x))"
   ]
  },
  {
   "cell_type": "markdown",
   "metadata": {},
   "source": [
    "## Regularized Least Squares"
   ]
  },
  {
   "cell_type": "code",
   "execution_count": 200,
   "metadata": {},
   "outputs": [
    {
     "name": "stdout",
     "output_type": "stream",
     "text": [
      "[5.00561e-01 4.77817e-01 8.33280e-02 1.30000e-05 4.56147e-01 4.35473e-01\n",
      " 4.59761e-01 4.30741e-01 4.03423e-01 4.52677e-01]\n",
      "1.3e-05 0.500561\n",
      "Cost =  0.44388155699472936\n"
     ]
    }
   ],
   "source": [
    "rho = 0.2187\n",
    "\n",
    "x = cp.Variable(n)\n",
    "objective = cp.Minimize(cp.sum_squares(A @ x - b) + rho*cp.sum_squares(x - 0.5*np.ones(n)))\n",
    "prob = cp.Problem(objective)\n",
    "\n",
    "result = prob.solve(solver=cp.ECOS)\n",
    "\n",
    "val = np.around(x.value, decimals=6)\n",
    "print(val)\n",
    "print(np.min(val), np.max(val))\n",
    "print(\"Cost = \",f0(x.value))"
   ]
  },
  {
   "cell_type": "markdown",
   "metadata": {},
   "source": [
    "## Chebyshev approximation"
   ]
  },
  {
   "cell_type": "code",
   "execution_count": 201,
   "metadata": {},
   "outputs": [
    {
     "name": "stdout",
     "output_type": "stream",
     "text": [
      "[9.99999999e-01 1.16498941e-01 1.80418227e-11 1.66764361e-11\n",
      " 9.99999997e-01 2.01763751e-09 1.00000000e+00 2.49006783e-02\n",
      " 2.42985320e-10 9.99999999e-01]\n",
      "[1.    0.116 0.    0.    1.    0.    1.    0.025 0.    1.   ]\n",
      "Cost =  0.4198241973798745\n"
     ]
    }
   ],
   "source": [
    "x = cp.Variable(n)\n",
    "objective = cp.Minimize(cp.norm(A @ x - b, 'inf'))\n",
    "constraints = [0 <= x, x <= 1]\n",
    "prob = cp.Problem(objective, constraints)\n",
    "\n",
    "prob.solve()\n",
    "\n",
    "x = x.value\n",
    "print(x)\n",
    "print(np.around(x, decimals=3))\n",
    "print(\"Cost = \",f0(x))\n"
   ]
  },
  {
   "cell_type": "markdown",
   "metadata": {},
   "source": [
    "## Exact Solution"
   ]
  },
  {
   "cell_type": "code",
   "execution_count": 202,
   "metadata": {},
   "outputs": [
    {
     "name": "stdout",
     "output_type": "stream",
     "text": [
      "[1.00000000e+00 2.02299180e-01 1.57565670e-11 1.03047947e-11\n",
      " 9.99999998e-01 8.01100605e-10 1.00000000e+00 1.88156919e-01\n",
      " 7.28589265e-11 1.00000000e+00]\n",
      "[1.    0.202 0.    0.    1.    0.    1.    0.188 0.    1.   ]\n",
      "Cost =  0.35747432042821453\n"
     ]
    }
   ],
   "source": [
    "x = cp.Variable(n)\n",
    "objective = cp.Minimize(cp.max(cp.maximum(A @ x , cp.inv_pos(A @ x))))\n",
    "constraints = [0 <= x, x <= 1]\n",
    "prob = cp.Problem(objective, constraints)\n",
    "\n",
    "result = prob.solve()\n",
    "\n",
    "x = x.value\n",
    "print(x)\n",
    "print(np.around(x, decimals=3))\n",
    "print(\"Cost = \",f0(x))"
   ]
  },
  {
   "cell_type": "code",
   "execution_count": null,
   "metadata": {},
   "outputs": [],
   "source": []
  }
 ],
 "metadata": {
  "kernelspec": {
   "display_name": "base",
   "language": "python",
   "name": "python3"
  },
  "language_info": {
   "codemirror_mode": {
    "name": "ipython",
    "version": 3
   },
   "file_extension": ".py",
   "mimetype": "text/x-python",
   "name": "python",
   "nbconvert_exporter": "python",
   "pygments_lexer": "ipython3",
   "version": "3.9.17"
  }
 },
 "nbformat": 4,
 "nbformat_minor": 2
}
