{
 "cells": [
  {
   "cell_type": "code",
   "execution_count": 68,
   "metadata": {},
   "outputs": [],
   "source": [
    "import numpy as np\n",
    "import cvxpy as cp\n",
    "import matplotlib.pyplot as plt"
   ]
  },
  {
   "cell_type": "markdown",
   "metadata": {},
   "source": [
    "### Data"
   ]
  },
  {
   "cell_type": "code",
   "execution_count": 69,
   "metadata": {},
   "outputs": [],
   "source": [
    "A = np.array([[-1, 0.4, 0.8],\n",
    "              [1,   0,  0],\n",
    "              [0,   1,  0]])\n",
    "\n",
    "b = np.array([1, 0, 0.3])\n",
    "\n",
    "x_des = np.array([7, 2, -6])\n",
    "\n",
    "N = 30"
   ]
  },
  {
   "cell_type": "markdown",
   "metadata": {},
   "source": [
    "### Formulation"
   ]
  },
  {
   "cell_type": "code",
   "execution_count": 70,
   "metadata": {},
   "outputs": [],
   "source": [
    "P = np.zeros((3,N))\n",
    "\n",
    "for i in range(N):\n",
    "    P[:,i] = np.linalg.matrix_power(A,N-1-i)@b\n",
    "\n",
    "ones = np.ones(N)"
   ]
  },
  {
   "cell_type": "code",
   "execution_count": null,
   "metadata": {},
   "outputs": [],
   "source": [
    "u = cp.Variable(N)\n",
    "y = cp.Variable(N)\n",
    "\n",
    "objective = cp.Minimize(ones @ y)\n",
    "constraints = [P @ u == x_des, -2*u-1<=y, -u<=y, u<=y, 2*u-1<=y]\n",
    "\n",
    "prob = cp.Problem(objective, constraints)\n",
    "result = prob.solve()\n",
    "\n",
    "u_sol = u.value"
   ]
  },
  {
   "cell_type": "markdown",
   "metadata": {},
   "source": [
    "### Solution"
   ]
  },
  {
   "cell_type": "code",
   "execution_count": 73,
   "metadata": {},
   "outputs": [
    {
     "name": "stdout",
     "output_type": "stream",
     "text": [
      "Optimal fuel cost = 17.323567854197325\n"
     ]
    },
    {
     "data": {
      "image/png": "[encoded data removed]",
      "text/plain": [
       "<Figure size 640x480 with 1 Axes>"
      ]
     },
     "metadata": {},
     "output_type": "display_data"
    }
   ],
   "source": [
    "plt.figure()\n",
    "plt.step(range(N), u_sol)\n",
    "plt.title('$u(t)$ vs time')\n",
    "plt.xlabel('$t$')\n",
    "plt.ylabel('$u(t)$')\n",
    "\n",
    "print(f\"Optimal fuel cost = {prob.value}\")"
   ]
  },
  {
   "cell_type": "code",
   "execution_count": null,
   "metadata": {},
   "outputs": [],
   "source": []
  }
 ],
 "metadata": {
  "kernelspec": {
   "display_name": "base",
   "language": "python",
   "name": "python3"
  },
  "language_info": {
   "codemirror_mode": {
    "name": "ipython",
    "version": 3
   },
   "file_extension": ".py",
   "mimetype": "text/x-python",
   "name": "python",
   "nbconvert_exporter": "python",
   "pygments_lexer": "ipython3",
   "version": "3.9.17"
  }
 },
 "nbformat": 4,
 "nbformat_minor": 2
}
