{
 "cells": [
  {
   "cell_type": "code",
   "execution_count": 1,
   "metadata": {},
   "outputs": [],
   "source": [
    "import numpy as np\n",
    "import cvxpy as cp\n",
    "import matplotlib.pyplot as plt"
   ]
  },
  {
   "cell_type": "markdown",
   "metadata": {},
   "source": [
    "### Data"
   ]
  },
  {
   "cell_type": "code",
   "execution_count": 2,
   "metadata": {},
   "outputs": [],
   "source": [
    "P1 = np.array([ [1, 0, 0, 0],\n",
    "                [0, 1, 0, 0],\n",
    "                [0, 0, 1, 0]])\n",
    "\n",
    "P2 = np.array([ [1, 0, 0, 0],\n",
    "                [0, 0, 1, 0],\n",
    "                [0, -1, 0, 10]])\n",
    "\n",
    "P3 = np.array([ [1, 1, 1, -10],\n",
    "                [-1, 1, 1, 0],\n",
    "                [-1, -1, 1, 10]])\n",
    "\n",
    "P4 = np.array([ [0, 1, 1, 0],\n",
    "                [0, -1, 1, 0],\n",
    "                [-1, 0, 0, 10]])\n",
    "\n",
    "y1 = np.array([0.98, 0.93])\n",
    "y2 = np.array([1.01, 1.01])\n",
    "y3 = np.array([0.95, 1.05])\n",
    "y4 = np.array([2.04, 0.00])"
   ]
  },
  {
   "cell_type": "code",
   "execution_count": 3,
   "metadata": {},
   "outputs": [],
   "source": [
    "P = np.array([P1, P2, P3, P4])\n",
    "y = np.array([y1, y2, y3, y4]).reshape(4,2,1)"
   ]
  },
  {
   "cell_type": "code",
   "execution_count": 4,
   "metadata": {},
   "outputs": [],
   "source": [
    "A = P[:,:2,:3]\n",
    "b = P[:,:2,-1]\n",
    "c = P[:, -1:, :3]\n",
    "d = P[:,-1:, -1]"
   ]
  },
  {
   "cell_type": "code",
   "execution_count": 5,
   "metadata": {},
   "outputs": [],
   "source": [
    "def fk(x):\n",
    "    return (A@x+b)/(c@x+d)"
   ]
  },
  {
   "cell_type": "markdown",
   "metadata": {},
   "source": [
    "### Function for solving Convex Feasibilty Problem for a given alpha"
   ]
  },
  {
   "cell_type": "code",
   "execution_count": 6,
   "metadata": {},
   "outputs": [],
   "source": [
    "def solve(alpha):\n",
    "    x = cp.Variable(3)\n",
    "\n",
    "    const1 = [cp.norm((A[i] - y[i]@c[i])@x +  b[i]-y[i]@d[i]) <= alpha*(c[i]@x + d[i]) for i in range(4)]\n",
    "    const2 = [c[i]@x + d[i] >= 0 for i in range(4)]\n",
    "\n",
    "    constraints = const1 + const2\n",
    "\n",
    "    prob = cp.Problem(cp.Minimize(0), constraints)\n",
    "    result = prob.solve(solver=cp.ECOS)\n",
    "\n",
    "    prob.status\n",
    "    \n",
    "    return x.value, prob.status"
   ]
  },
  {
   "cell_type": "markdown",
   "metadata": {},
   "source": [
    "### Optimising using Bisection"
   ]
  },
  {
   "cell_type": "code",
   "execution_count": 7,
   "metadata": {},
   "outputs": [
    {
     "name": "stdout",
     "output_type": "stream",
     "text": [
      "Start bisection search with 10\n"
     ]
    }
   ],
   "source": [
    "upper = 10\n",
    "lower = 0\n",
    "error = 1e-4\n",
    "\n",
    "_,res = solve(upper)\n",
    "\n",
    "if res=='optimal':\n",
    "    print(f\"Start bisection search with {upper}\")\n",
    "else:\n",
    "    print(f\"Start with a bigger initial guess\")"
   ]
  },
  {
   "cell_type": "code",
   "execution_count": 8,
   "metadata": {},
   "outputs": [
    {
     "name": "stdout",
     "output_type": "stream",
     "text": [
      "Bisection has been terminated\n",
      "Confidence Interval = 7.62939453125e-05\n",
      "Estimated position = [4.91310902 5.01683617 5.19602383]\n"
     ]
    }
   ],
   "source": [
    "while upper-lower>error:\n",
    "    alpha = (upper+lower)/2\n",
    "    x,res = solve(alpha)\n",
    "    if res=='optimal':\n",
    "        upper = alpha\n",
    "    else:\n",
    "        lower = alpha\n",
    "\n",
    "print(\"Bisection has been terminated\")\n",
    "print(f\"Confidence Interval = {upper-lower}\")\n",
    "print(f\"Estimated position = {x}\")"
   ]
  }
 ],
 "metadata": {
  "kernelspec": {
   "display_name": "base",
   "language": "python",
   "name": "python3"
  },
  "language_info": {
   "codemirror_mode": {
    "name": "ipython",
    "version": 3
   },
   "file_extension": ".py",
   "mimetype": "text/x-python",
   "name": "python",
   "nbconvert_exporter": "python",
   "pygments_lexer": "ipython3",
   "version": "3.9.17"
  }
 },
 "nbformat": 4,
 "nbformat_minor": 2
}
